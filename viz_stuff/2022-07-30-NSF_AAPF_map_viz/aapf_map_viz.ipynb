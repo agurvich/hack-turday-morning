{
 "cells": [
  {
   "cell_type": "markdown",
   "id": "9d059664-53e1-49b6-9188-7413b34788cb",
   "metadata": {
    "tags": []
   },
   "source": [
    "# aapf_map_viz.ipynb\n",
    "Let's visualize where the NSF Astronomy & Astrophysics Postdoctoral Fellowship recipients took their $$$"
   ]
  },
  {
   "cell_type": "code",
   "execution_count": 1,
   "id": "b0439e52-8f69-488c-a55d-17e499e3c12a",
   "metadata": {},
   "outputs": [],
   "source": [
    "import pandas as pd\n",
    "import numpy as np"
   ]
  },
  {
   "cell_type": "markdown",
   "id": "b08a49f7-3256-400b-a8dc-62d7b0a4af5f",
   "metadata": {},
   "source": [
    "NSF data available at [this really long link](https://www.nsf.gov/awardsearch/advancedSearchResult?PIId=&PIFirstName=&PILastName=&PIOrganization=&PIState=&PIZip=&PICountry=&ProgOrganization=&ProgEleCode=1609&BooleanElement=All&ProgRefCode=&BooleanRef=All&Program=&ProgOfficer=&Keyword=&AwardNumberOperator=&AwardAmount=&AwardInstrument=&ActiveAwards=true&ExpiredAwards=true&OriginalAwardDateOperator=&StartDateOperator=&ExpDateOperator=). Thanks NSF !"
   ]
  },
  {
   "cell_type": "code",
   "execution_count": 2,
   "id": "4b488a9c-06b9-4e8c-84f1-d1662f7e0eb6",
   "metadata": {},
   "outputs": [],
   "source": [
    "## we don't trust pd.read_csv in this household\n",
    "with open(\"data/Awards.csv\",'rb') as handle:\n",
    "    data = [line[1:-1].split('\",\"') for line in \n",
    "            handle.read().decode(errors='ignore').split('\\n')[:-1]]\n",
    "    header = data[0]\n",
    "    data_dict = dict(zip(header,np.array(data[1:]).T))\n",
    "    aapf_df = pd.DataFrame(data_dict)"
   ]
  },
  {
   "cell_type": "markdown",
   "id": "aae50d93-b76d-4a74-a678-7241ec9c0287",
   "metadata": {},
   "source": [
    "US city latitude and longitude data downloaded for free from: https://simplemaps.com/data/us-cities.\n",
    "\n",
    "Thanks https://simplemaps.com !"
   ]
  },
  {
   "cell_type": "code",
   "execution_count": 3,
   "id": "a99ca0a5-03d2-42e4-9abb-18990b30c20c",
   "metadata": {},
   "outputs": [],
   "source": [
    "## we don't trust pd.read_csv in this household\n",
    "with open(\"data/uscities.csv\",'r') as handle:\n",
    "    data = [line[1:-1].split('\",\"') for line in \n",
    "            handle.read().split('\\n')[:-1]]\n",
    "    header = data[0]\n",
    "    data_dict = dict(zip(header,np.array(data[1:]).T))\n",
    "    cities_df = pd.DataFrame(data_dict)\n",
    "\n",
    "## take advantage of the fact this dataset has state abbrev. and state names\n",
    "##  to make a mapping dictionary for later\n",
    "mappings = np.unique(list(zip(list(cities_df['state_id']),list(cities_df['state_name']))),axis=0)\n",
    "state_mapper = dict(mappings)"
   ]
  },
  {
   "cell_type": "markdown",
   "id": "f1814899-eef6-4ecc-89fc-89a6514df66f",
   "metadata": {},
   "source": [
    "Zipcode latitude and longitude data downloaded from the [US Census Bureau](https://www.census.gov/geographies/reference-files/time-series/geo/gazetteer-files.html). \n",
    "\n",
    "Thanks US Census Bureau!"
   ]
  },
  {
   "cell_type": "code",
   "execution_count": 4,
   "id": "7e520b68-e17c-411a-ab4d-d177ba07661a",
   "metadata": {},
   "outputs": [],
   "source": [
    "## we don't trust pd.read_csv in this household\n",
    "with open(\"data/2021_Gaz_zcta_national.txt\",'r') as handle:\n",
    "    data = [line.split('\\t') for line in \n",
    "            handle.read().split('\\n')[:-1]]\n",
    "    header = data[0]\n",
    "    data_dict = dict(zip(header,np.array(data[1:]).T))\n",
    "    zip_df = pd.DataFrame(data_dict)\n",
    "\n",
    "## reduce the dataset just to lat and longitude and set the index\n",
    "##  to the zipcode so that we can use the dataframe as a lookup table\n",
    "zip_df.set_index('GEOID',inplace=True)\n",
    "zip_df = zip_df.T[-2:].T"
   ]
  },
  {
   "cell_type": "markdown",
   "id": "2f5d20eb-a4fe-43f9-b0b9-9bcb38caf620",
   "metadata": {},
   "source": [
    "# Alright, time to parse the data!"
   ]
  },
  {
   "cell_type": "code",
   "execution_count": 5,
   "id": "3fd2adae-7469-4d4d-acf8-6ff2e7abe04c",
   "metadata": {},
   "outputs": [
    {
     "name": "stdout",
     "output_type": "stream",
     "text": [
      "$$ gone to: Garching \n",
      "$$ gone to: Sydney \n",
      "$$ gone to: Exeter  (but almost had you w/ a matching US city!)\n",
      "$$ gone to: 1091 WS Amsterdam \n",
      "$$ gone to: Kaleden, BC \n",
      "$$ gone to:  \n",
      "$$ gone to: CH-8049 Zurich \n",
      "$$ gone to: Toronto, Ontario, M5S3H8  (but almost had you w/ a matching US city!)\n"
     ]
    }
   ],
   "source": [
    "lat_lons = []\n",
    "for index,postdoc in aapf_df.iterrows():\n",
    "    ## some organization zips are the long boys with extra digits\n",
    "    zipcode = postdoc['OrganizationZip'][:5]\n",
    "    \n",
    "    ## ah yes, the sweet sweet ideal scenario, if only it were always so\n",
    "    if zipcode in zip_df.index: \n",
    "        lat_lons += [tuple(zip_df.loc[zipcode].values)]\n",
    "    \n",
    "    ## okay let's try looking by city instead since we can't match by zip code\n",
    "    else:\n",
    "        city = postdoc['OrganizationCity'].title()\n",
    "        \n",
    "        ## oh NSF, you put Toronto, Ontario into the city field...\n",
    "        if 'Toronto' in city: city = city.split(',')[0]\n",
    "        \n",
    "        matches = cities_df[cities_df['city_ascii'] == city]\n",
    "        \n",
    "        ## cry, there aren't any city matches\n",
    "        if matches.shape[0] == 0:\n",
    "            lat_lons += [(np.nan,np.nan)]\n",
    "            print('$$ gone to:', postdoc['OrganizationCity'],postdoc['OrganizationState'])\n",
    "\n",
    "        ## exactly one match, hurray!\n",
    "        elif matches.shape[0] == 1: lat_lons += [(matches['lat'].values[0],matches['lng'].values[0])]\n",
    "        ## multiple cities in the US with this name, need to match on state\n",
    "        else: \n",
    "            sub_matches = matches[postdoc['OrganizationState'] == matches['state_id']]\n",
    "            ## oh Exeter & Toronto, why are there US cities named after you?\n",
    "            if sub_matches.shape[0] == 0:\n",
    "                print('$$ gone to:', postdoc['OrganizationCity'],postdoc['OrganizationState'],'(but almost had you w/ a matching US city!)')\n",
    "                lat_lons += [(np.nan,np.nan)]\n",
    "            ## one match! we did it\n",
    "            elif sub_matches.shape[0] == 1: \n",
    "                lat_lons += [(sub_matches['lat'].values[0],sub_matches['lng'].values[0])]\n",
    "            ## multiple cities in this state with the same name? is that... possible?\n",
    "            else:\n",
    "                print(postdoc['OrganizationCity'],postdoc['OrganizationState'])\n",
    "                print(matches.shape,matches[['city','state_id','state_name']])\n",
    "                lat_lons += [(np.nan,np.nan)]\n",
    "\n",
    "## convert to numpy array\n",
    "lat_lons = np.array(lat_lons,dtype=np.float64)"
   ]
  },
  {
   "cell_type": "markdown",
   "id": "0d64f4f6-2164-4c1b-aefe-72913b53f51b",
   "metadata": {},
   "source": [
    "### Now let's extract the institution from the abstract\n",
    "Thanks NSF for formatting your abstracts (relatively) uniformly!"
   ]
  },
  {
   "cell_type": "code",
   "execution_count": 6,
   "id": "22702be4-adde-4dad-9487-5fb9d2abcd76",
   "metadata": {},
   "outputs": [],
   "source": [
    "locations = []\n",
    "for abstract in aapf_df['Abstract']:\n",
    "    ## early on their format was something like ___ was awarded a fellowship\n",
    "    ##  to do ____ at ____ and like 50% of the time they put Dr. in the first ___\n",
    "    my_abstract = abstract.split('awarded')[1] if 'awarded' in abstract else abstract\n",
    "\n",
    "    ## split on periods to get a list of sentences\n",
    "    abs_first_sent = my_abstract[:].split('.')\n",
    "\n",
    "    ## sometimes, despite our best efforts, the first \"sentence\" is still\n",
    "    ##  a title like Dr., Mr., Ms. , etc.\n",
    "    abs_first_sent = abs_first_sent[(len(abs_first_sent[0]) < 15)]\n",
    "    \n",
    "    ## by some miracle they really put at ____ for *every* abstract\n",
    "    ##  and what immediately follows is the institution, incredible.\n",
    "    location = abs_first_sent.split(' at ')\n",
    "    ## sometimes there's multiple institutions so we want to get them all\n",
    "    location = ' at '.join(location[1:])\n",
    "    ## sorry ohio state\n",
    "    location = location.replace('the ','')\n",
    "\n",
    "    ## do a little bit of data validation to make sure we actually got what we wanted\n",
    "    ##  would need to update this list if a legit institution was raising an error\n",
    "    flag = False\n",
    "    for key in ['University','Museum','Center',\n",
    "                'Planetarium','College','Institute',\n",
    "                'universities','Institution','Caltech',\n",
    "                'Universities','Observatory']: \n",
    "        flag = flag or key in location\n",
    "    if not flag: raise KeyError(location,abs_first_sent)\n",
    "    \n",
    "    locations += [location]\n",
    "\n",
    "## literally only the last one had additional content between the 'at ' and the '.' besides\n",
    "##  the institution. At least it was separate by a comma.\n",
    "locations[-1] = locations[-1].split(',')[0]"
   ]
  },
  {
   "cell_type": "markdown",
   "id": "93ffcb4a-ee2e-43a4-89ec-00887b668f80",
   "metadata": {},
   "source": [
    "## Need to flag locations which are not geocoded correctly. See cells at bottom for how we did this manually"
   ]
  },
  {
   "cell_type": "code",
   "execution_count": 7,
   "id": "f0c8e4e4-d9c5-4423-aa21-8fc0761fd515",
   "metadata": {},
   "outputs": [],
   "source": [
    "flags = [False, True, False, True, True, False, True, False, False, True, False, True, True, True, True, True, False, True, True, False, True, True, False, False, True, True, True, True, False, False, True, True, True, True, False, True, False, True, True, True, True, False, False, False, True, True, False, True, False, True, True, True, True, False, False, False, True, True, True, False, True, False, True, True, True, True, True, False, True, False, True, True, False, True, True, True, False, True, False, True, True, False, False, False, False, True, True, True, True, True, True, True, False, False, False, True, False, True, True, True, True, True, False, True, False, True, True, True, False, False, False, True, True, True, True, False, False, True, False, False, False, False, False, True, False, True, False, True, True, False, False, True, False, True, True, False, True, False, False, False, False, False, False, False, False, False, False, False, True, True, True, False, False, False, True, False, False, True, False, False, True, False, True, False, False, False, False, False, False, True, False, True, False, True, False, False, False, False, True, True, False, True, False, False, True, False, False, True, True, False, True, False]"
   ]
  },
  {
   "cell_type": "code",
   "execution_count": 8,
   "id": "55e3cc48-5852-48d1-9a13-aaf56c13401a",
   "metadata": {},
   "outputs": [],
   "source": [
    "## stuff that was messed up and I had to fix manually: \n",
    "flags[64] = False ## i said JHU wasn't in maryland above, whoops\n",
    "flags[185] = True ## bad location for amherst, I guess they started in boston"
   ]
  },
  {
   "cell_type": "code",
   "execution_count": 9,
   "id": "e0f1304d-db44-4817-92d1-b2eca6d88cb2",
   "metadata": {},
   "outputs": [],
   "source": [
    "states = [state_mapper[state] if state in state_mapper else '_NAN_' for state in aapf_df['OrganizationState'].tolist()]\n",
    "\n",
    "## start with NMSU because there's a correctly geocoded entry for ___ and NMSU that we don't want to find first\n",
    "## when we do the remapping... so this should be the first key to guarantee that won't happen\n",
    "good_remapper = {'New Mexico State University':('New Mexico',(32.2793, -106.7491))}\n",
    "good_remapper['University of California, Santa Barbara'] = ('California',(34.414253, -119.840902))\n",
    "good_remapper.update({location:(state,lat_lon) for (location,flag,state,lat_lon) in zip(locations,flags,states,lat_lons) if not flag})\n",
    "\n",
    "\n",
    "## manually have to add ~20 entries because these institutions only received 1\n",
    "##  NSF AAPF or every instance of an NSF AAPF at this location has an incorrect city+state\n",
    "\n",
    "## copy from ones that *did* work but won't match on their own\n",
    "good_remapper['Institute for Advanced Study'] = good_remapper['Princeton University']\n",
    "good_remapper['Caltech'] = good_remapper['California Institute of Technology']\n",
    "\n",
    "## RIP Amherst\n",
    "good_remapper['University of Massachusetts-Amherst'] = ('Massachusetts',(42.3868, -72.5301))\n",
    "good_remapper['University of Massachusetts at Amherst'] = good_remapper['University of Massachusetts-Amherst']\n",
    "good_remapper['University of Massachusetts, Amherst'] = good_remapper['University of Massachusetts-Amherst']\n",
    "\n",
    "## multiple missing for IfA\n",
    "good_remapper['University of Hawaii Institute for Astronomy (IfA)'] = ('Hawaii',(21.3072,-157.8116))\n",
    "good_remapper['Institute for Astronomy at University of Hawaii'] = good_remapper['University of Hawaii Institute for Astronomy (IfA)']\n",
    "\n",
    "## multiple missing for Santa Barbara\n",
    "\n",
    "good_remapper['Institute for Theoretical Physics at University of California Santa Barbara (UCSB)'] = good_remapper['University of California, Santa Barbara']\n",
    "\n",
    "good_remapper['Dartmouth College'] = ('New Hampshire', (43.7044, -72.2887))\n",
    "good_remapper['University of Utah'] = ('Utah',(40.7649, -111.8421))\n",
    "good_remapper['Carnegie Institution Department of Terrestrial Magnetism'] = ('Washington, D.C.',(38.958554, -77.063200))\n",
    "good_remapper['Department of Terrestrial Magnetism of Carnegie Institution'] = ('Washington, D.C.',(38.958554, -77.063200))\n",
    "good_remapper['Vanderbilt University'] = ('Tennessee',(36.1447, -86.8027))\n",
    "good_remapper['Observatories of Carnegie Institution of Washington'] = ('California',(34.155698, -118.133363))\n",
    "good_remapper['Pennsylvania State University'] = ('Pennsylvania',(40.7982, -77.8599))\n",
    "good_remapper['Rutgers, State University of New Jersey'] = ('New Jersey',(40.5008, -74.4474))\n",
    "good_remapper['National Center for Atmospheric Research (NCAR)'] = ('Colorado',(39.978203, -105.274773))\n",
    "good_remapper['Cerro Tololo InterAmerican Observatory (CTIO) of National Optical Astronomy Observatories (NOAO), in La Serena, Chile'] = ('La Serena, Chile',(-30.169275, -70.806257))\n",
    "\n",
    "\n",
    "## reflect CTIO across the equator to be in our USA centric map\n",
    "good_remapper['Cerro Tololo InterAmerican Observatory (CTIO) of National Optical Astronomy Observatories (NOAO), in La Serena, Chile'] = ('La Serena, Chile',(30.169275, -70.806257))"
   ]
  },
  {
   "cell_type": "code",
   "execution_count": 10,
   "id": "fc1079fe-916e-44d0-aa40-d5624e0b90ab",
   "metadata": {},
   "outputs": [
    {
     "name": "stdout",
     "output_type": "stream",
     "text": [
      "0 unaccounted for\n"
     ]
    }
   ],
   "source": [
    "new_states = []\n",
    "new_lat_lons = []\n",
    "for i,(location,flag,state,lat_lon) in enumerate(zip(locations,flags,states,lat_lons)):\n",
    "    if flag: \n",
    "        found = False\n",
    "        for key,value in good_remapper.items():\n",
    "            if key in location or location in key:\n",
    "                found = True\n",
    "                #print(f\"Matching {location} to {key}\")\n",
    "                #print(f\"{state} -> {value[0]}\")\n",
    "                state = value[0]\n",
    "                lat_lon = value[1]\n",
    "                break\n",
    "        if not found: print(i,location,state)\n",
    "    \n",
    "    ## add (remapped) state and lat_lon to our new list\n",
    "    new_states += [state]\n",
    "    new_lat_lons += [lat_lon]\n",
    "        \n",
    "        \n",
    "print(len(lat_lons)-len(new_lat_lons),'unaccounted for')\n",
    "new_lat_lons = np.array(new_lat_lons,dtype=float)"
   ]
  },
  {
   "cell_type": "code",
   "execution_count": 11,
   "id": "a612de83-5c8a-4080-ab36-6b29a7c5bc87",
   "metadata": {},
   "outputs": [],
   "source": [
    "text_boxes = []\n",
    "\n",
    "for i,location in enumerate(locations):\n",
    "    text_box = (\n",
    "        f\"{aapf_df['PrincipalInvestigator'].loc[i]}<br>{location}\" +\n",
    "        f\"<br>{aapf_df['StartDate'].loc[i]} - {aapf_df['EndDate'].loc[i]}\")\n",
    "    \n",
    "    text_boxes+=[text_box]\n",
    "text_boxes = np.array(text_boxes)\n",
    "\n",
    "expired = pd.Timestamp.today() > pd.DatetimeIndex(aapf_df['EndDate'])"
   ]
  },
  {
   "cell_type": "code",
   "execution_count": 13,
   "id": "3a3411f9",
   "metadata": {},
   "outputs": [],
   "source": [
    "nsf_fellows = np.array([\n",
    "    np.array([year.split('/')[-1] for year in aapf_df['StartDate'].values]),\n",
    "    np.repeat('NSF',aapf_df.shape[0]),\n",
    "    aapf_df['PrincipalInvestigator'].values,\n",
    "    locations,\n",
    "    aapf_df['Abstract']\n",
    "],dtype='str').T\n",
    "\n",
    "np.save('nsf_fellows.npy',nsf_fellows)"
   ]
  },
  {
   "cell_type": "markdown",
   "id": "0ec0092d-f36a-4894-aa83-8426bdad5685",
   "metadata": {},
   "source": [
    "## And now we can make our map!"
   ]
  },
  {
   "cell_type": "code",
   "execution_count": 14,
   "id": "c95262b2-0f22-4985-9e63-dda27a98c50b",
   "metadata": {},
   "outputs": [
    {
     "data": {
      "application/vnd.plotly.v1+json": {
       "config": {
        "plotlyServerURL": "https://plot.ly"
       },
       "data": [
        {
         "type": "scattergeo"
        },
        {
         "hoverinfo": "text",
         "lat": [
          42.13247899400573,
          42.41983518614336,
          40.88625877356419,
          41.78546562178264,
          40.79607466315241,
          41.420178179180475,
          33.46101671728625,
          41.86641838946995,
          42.06669367146671,
          41.31648337718282,
          34.06585395155385,
          34.16887283564397,
          40.16037954734115,
          30.415742361355406,
          43.09762960613382,
          32.94863403138598,
          40.80814395431993,
          47.70894567716629,
          40.144517220381324,
          40.185750529677605,
          42.75294420082458,
          41.873501319105706,
          34.13625014736329,
          34.46465186383722,
          32.32678926928701,
          40.28386174970356,
          37.988519558472916,
          42.39630990554399,
          40.217236645413095,
          41.364837642192235,
          32.92226710238763,
          34.15325431835251,
          47.747804046182004,
          34.14525322913384,
          42.85056466633424,
          39.47050114806101,
          41.9176574847151,
          39.36945065216773,
          33.39766485025396,
          42.430360498910794,
          42.48185454235772,
          38.99700166831989,
          42.49045898991717,
          42.487825384636416,
          42.495808445465684,
          38.10425354073369,
          42.379202901692736,
          47.78888809018163,
          32.25881494659787,
          34.225743401934615,
          42.524533800638714,
          40.72494479252417,
          42.15816101505347,
          34.296290482343444,
          30.32101809682262,
          40.15546967181883,
          36.21584085724193,
          34.25767679238666,
          21.331420273862037,
          34.43034504777605,
          40.39370707158295,
          36.22114079655045,
          30.31428951929262,
          47.753728911918536,
          30.29394203219355,
          43.2083026485033,
          21.450092777984523,
          40.42654496139317,
          42.49128961307288,
          40.52799776912693,
          39.05156777664712,
          43.20518668509144,
          38.148390155264934,
          41.78118794060139,
          34.18795561563238,
          40.67435918392653,
          40.93962320255671,
          34.234734345476376,
          42.46685320308957,
          42.413587890427955,
          43.218655691869614,
          33.46376836252508,
          34.04384080021701,
          40.692185451086296,
          40.48749941201702,
          41.850503210869,
          42.37185765685577,
          34.24036165437348,
          37.02108926791488,
          42.41391901999632,
          42.380843969964054,
          42.836303826698426,
          40.8473412555729,
          40.19160559481972,
          40.871074378872336,
          34.19138583305647,
          42.7328890658953,
          37.190768876373696,
          37.97164406609186,
          40.08526001969374,
          42.42737327114366,
          42.12323589912705,
          40.41942475566426,
          37.99368670019638,
          42.47410278584671,
          40.3901370762714,
          42.46235186142666,
          37.882663192103514,
          37.920122518007354,
          40.03819326133522,
          41.39722237213207,
          32.357518035413484,
          41.65413149761034,
          42.469681847327955,
          37.8984180385887,
          37.945172928607114,
          42.50987138989256,
          42.400006002267176,
          42.42985991087668,
          42.50408075478558,
          37.89829842203386,
          34.23752105345612,
          34.158316874244505,
          40.081486460868476,
          43.1866270478217,
          42.39504570962997,
          42.55841100111905,
          34.102476948118024,
          40.00337430863684,
          41.976835723040786,
          41.82878600012931,
          34.27718586286381,
          33.95415600943219,
          34.1911344326304,
          37.07353981312491,
          32.988320352630595,
          37.11795217390532,
          47.75299909021143,
          40.0744415734937,
          41.52578240520806,
          47.7704613220648,
          42.475089293668326,
          30.39941100557553,
          30.313424426347233,
          30.197482015686077,
          40.371548933569,
          29.80891200628728,
          42.329622863892645,
          29.772293361651116,
          43.10236290890171,
          41.86843759369906,
          34.202011483506226,
          40.84678971331598,
          33.843943343164206,
          42.38396695721272,
          38.105749050951836,
          42.46684255680353,
          38.15485850889042,
          34.27818285104577,
          34.45912339933742,
          32.34211155458327,
          21.327115548229052,
          32.31243118141896
         ],
         "legendgroup": "expired",
         "lon": [
          -87.57074970604955,
          -71.11225527413222,
          -73.88254076749554,
          -87.4857692914703,
          -111.7232080227865,
          -72.85325030874361,
          -111.82989283077187,
          -87.48346145780455,
          -87.64801239227292,
          -72.90325182514341,
          -117.1963588619491,
          -118.30953642287099,
          -88.06691105045473,
          -97.66574753028831,
          -89.31130308545085,
          -117.11150879073061,
          -73.9466157112439,
          -122.2302476610515,
          -88.16052598007509,
          -82.7570757326937,
          -84.35057234146215,
          -87.54015064735245,
          -118.36137878943671,
          -119.73455738290322,
          -110.90669112791504,
          -82.86676453758831,
          -122.24739344826656,
          -71.01428086006541,
          -82.79673701439748,
          -72.88578946013477,
          -117.05509813195347,
          -118.38502087903919,
          -122.19383585289563,
          -118.00529464976556,
          -84.34826947758563,
          -76.57865545843453,
          -87.57090807098773,
          -76.6221762896032,
          -111.88159603445366,
          -71.1003571149295,
          -71.01775801467134,
          -77.01351717648784,
          -71.11336230881109,
          -71.1232581195025,
          -71.06629365185441,
          -78.54840571648377,
          -71.03474802260503,
          -122.23795232966471,
          -110.9301693513667,
          -118.07993031686475,
          -71.06136662181763,
          -73.96041244386166,
          -87.60683315129323,
          -118.036312921507,
          -97.72831623302145,
          -105.21918303627777,
          -86.65550131063625,
          -118.11293190600075,
          -157.73292968028716,
          -119.80135426323918,
          -74.61847035776009,
          -86.74887977297188,
          -97.65534614500513,
          -122.2636023897015,
          -97.5918886650366,
          -89.34882629547293,
          -157.68962954430268,
          -74.62798787456846,
          -71.02592624730536,
          -74.41328779058802,
          -76.98531488615848,
          -89.34513511898531,
          -78.52641327922463,
          -86.16204585543626,
          -118.06498693459623,
          -73.94357051952721,
          -77.75043456051107,
          -118.01455614148728,
          -71.01626276229733,
          -70.99948795595434,
          -77.57996499780103,
          -111.5470749935907,
          -118.25438416976864,
          -73.9718551279188,
          -74.58518407936809,
          -87.50894714227154,
          -70.95499163475237,
          -118.18865090815368,
          -121.91312336201136,
          -71.09012175342026,
          -70.99411968106334,
          -84.41782761832914,
          -73.90357597177298,
          -105.0640280459266,
          -77.83628801308737,
          -118.09123944256987,
          -84.34183666228928,
          -121.98590784451771,
          -122.21040589985306,
          -105.11413144132528,
          -71.11634333463812,
          -87.53883740410038,
          -74.58684735617246,
          -122.24349805447929,
          -72.51461887300968,
          -74.55843769973643,
          -71.04982027446329,
          -122.13142729765067,
          -122.24420372860007,
          -105.19087870811208,
          -72.89141121066335,
          -110.82224723293439,
          -72.56980029917872,
          -71.08979944525304,
          -122.1299876579851,
          -122.18102557812631,
          -71.1067858081348,
          -70.97455819379614,
          -71.03070079553616,
          -71.11850713537322,
          -122.13368241675273,
          -117.98646260669537,
          -118.06678399688931,
          -105.21184387621038,
          -89.28799276474994,
          -71.05307237032632,
          -76.47730111990751,
          -118.37509032578728,
          -105.24494931754566,
          -87.50714489862888,
          -87.47837354681407,
          -118.09695293800432,
          -107.01635761397944,
          -118.06852029767171,
          -122.00450545025171,
          -117.17702465498753,
          -121.96901161133663,
          -122.26525268350888,
          -105.19085024854105,
          -81.43919207370959,
          -122.23651937577621,
          -71.12833616384395,
          -97.7305101859778,
          -97.59277505032173,
          -70.75808142214676,
          -74.65053542197693,
          -82.32055775095024,
          -83.57365976730507,
          -82.32484126688055,
          -89.37300208428326,
          -87.51629492712372,
          -118.12299397082097,
          -73.8633748076866,
          -118.12962461006786,
          -71.05269634050873,
          -78.59458108743264,
          -72.4333415527865,
          -78.58750150226952,
          -118.09260554442169,
          -119.69742934705594,
          -110.91930137160173,
          -157.68354847641842,
          -110.80543758941506
         ],
         "marker": {
          "color": "red",
          "opacity": 0.25,
          "size": 12
         },
         "name": "expired",
         "text": [
          "Emily Leiner<br>Northwestern University<br>09/01/2018 - 09/30/2021",
          "Cara Battersby<br>Harvard-Smithsonian Center for Astrophysics<br>08/01/2016 - 07/31/2017",
          "Marcel Ageros<br>Columbia University<br>10/01/2006 - 09/30/2010",
          "BURCIN MUTLU<br>University of Chicago<br>08/01/2020 - 07/31/2022",
          "Sten Hasselquist<br>University of Utah<br>09/01/2018 - 07/31/2021",
          "Mary McSwain<br>Yale University in New Haven, Connecticut<br>09/01/2004 - 08/31/2007",
          "Daniel Jacobs<br>Arizona State University<br>10/01/2014 - 08/31/2017",
          "Maria Weber<br>University of Chicago and at Adler Planetarium<br>10/01/2017 - 09/30/2020",
          "Sarah Wellons<br>Northwestern University<br>09/01/2020 - 06/30/2022",
          "Eilat Glikman<br>Yale University<br>06/01/2009 - 02/28/2013",
          "Paul Dalba<br>University of California, Riverside<br>06/01/2019 - 05/31/2022",
          "Stephanie Sallum<br>University of California, Santa Cruz<br>09/01/2017 - 06/30/2020",
          "Joshua Faber<br>University of Illinois at Urbana- Champaign<br>08/01/2004 - 07/31/2007",
          "Sheila Kannappan<br>University of Texas<br>09/01/2004 - 06/30/2007",
          "Peter Frinchaboy<br>University of Wisconsin-Madison<br>09/01/2006 - 08/31/2009",
          "Darcy Barron<br>University of California, Berkeley<br>08/01/2015 - 07/31/2018",
          "Robyn Sanderson<br>Columbia University and New York University<br>09/01/2014 - 11/30/2017",
          "Jonathan Pober<br>University of Washington<br>09/01/2013 - 08/31/2016",
          "Zachariah Etienne<br>University of Illinois at Urbana-Champaign (UIUC)<br>08/15/2010 - 07/31/2013",
          "Gail Zasowski<br>The Ohio State University (OSU)<br>09/01/2012 - 08/31/2015",
          "MacKenzie Warren<br>Michigan State University<br>07/01/2018 - 12/31/2020",
          "Jason Henning<br>University of Chicago<br>09/01/2014 - 08/31/2017",
          "Emily Martin<br>University of California, Santa Cruz<br>09/01/2018 - 08/31/2021",
          "Kristina Davis<br>University of California, Santa Barbara<br>08/01/2018 - 07/31/2022",
          "Christina Williams<br>The University of Arizona<br>08/15/2017 - 07/31/2020",
          "Johnny Greco<br>Ohio State University<br>09/01/2018 - 06/30/2021",
          "Joshua Dillon<br>University of California, Berkeley<br>09/01/2017 - 08/31/2020",
          "Kathy Cooksey<br>Massachusetts Institute of Technology Kavli Institute for Astrophysics and Space Research (MKI)<br>10/01/2010 - 09/30/2013",
          "Kelly Denney<br>The Ohio State University<br>10/01/2013 - 09/30/2016",
          "Megan Schwamb<br>Yale University<br>08/01/2010 - 07/31/2013",
          "Carl Melis<br>University of California, San Diego (UCSD)<br>09/01/2010 - 08/31/2013",
          "Christian Johnson<br>University of California, Los Angeles<br>07/15/2010 - 06/30/2013",
          "Erin Hicks<br>University of Washington (UW)<br>09/01/2010 - 08/31/2013",
          "Erika Hamden<br>California Institute of Technology<br>09/01/2014 - 08/31/2017",
          "Devin Silvia<br>Michigan State University<br>09/01/2014 - 08/31/2017",
          "Claire Murray<br>Johns Hopkins University<br>09/01/2018 - 08/31/2021",
          "Daniel Grin<br>University of Chicago<br>09/01/2013 - 08/31/2016",
          "Thomas Essinger-Hileman<br>Johns Hopkins University<br>06/01/2013 - 05/31/2016",
          "Adam Beardsley<br>Arizona State University<br>08/01/2017 - 07/31/2020",
          "Stephanie Douglas<br>Harvard-Smithsonian Center for Astrophysics<br>09/15/2017 - 08/31/2020",
          "Joel Leja<br>Harvard University<br>06/01/2017 - 05/31/2020",
          "Meredith MacGregor<br>Carnegie Institution Department of Terrestrial Magnetism<br>09/15/2017 - 01/31/2020",
          "Jill Naiman<br>Center for Astrophysics at Harvard University<br>09/15/2014 - 08/31/2017",
          "Bevin Zauderer<br>Harvard University<br>07/01/2013 - 08/31/2014",
          "Claudia Cyganowski<br>Harvard-Smithsonian Center for Astrophysics, National Radio Astronomy Observatory, and University of Virginia<br>10/01/2010 - 09/30/2013",
          "Amanda Heiderman<br>University of Virginia and National Radio Astronomy Observatory<br>10/01/2013 - 09/30/2016",
          "Gabriel Perez-Giz<br>Massachusetts Institute of Technology (MIT) Kavli Institute for Astrophysics and Space Research (MKI)<br>09/01/2010 - 08/31/2014",
          "Ian Sullivan<br>University of Washington (UW)<br>09/01/2010 - 08/31/2013",
          "Julia Kamenetzky<br>University of Arizona<br>09/01/2014 - 08/31/2016",
          "Garreth Ruane<br>California Institute of Technology<br>10/01/2016 - 12/31/2018",
          "Or Graur<br>Harvard-Smithsonian Center for Astrophysics<br>10/01/2016 - 07/31/2020",
          "Jason Curtis<br>Columbia University<br>09/01/2016 - 08/31/2019",
          "Aaron Geller<br>Northwestern University<br>06/01/2013 - 05/31/2017",
          "Janet Colucci<br>University of California, Santa Cruz (UCSC)<br>09/01/2013 - 08/31/2016",
          "Jeffrey Silverman<br>University of Texas at Austin (UT)<br>06/01/2013 - 05/31/2016",
          "Sarah Horst<br>University of Colorado<br>09/01/2011 - 08/31/2014",
          "Jedidah Isler<br>Vanderbilt University<br>07/01/2015 - 06/30/2018",
          "Abigail Crites<br>California Institute of Technology<br>06/01/2016 - 05/31/2019",
          "Regina Jorgenson<br>University of Hawaii Institute for Astronomy (IfA)<br>10/01/2011 - 09/30/2014",
          "Greg Salvesen<br>University of California, Santa Barbara<br>10/01/2016 - 09/30/2019",
          "Jia Liu<br>Princeton University<br>07/01/2016 - 06/30/2020",
          "Julie Dumas<br>Vanderbilt University<br>10/01/2016 - 09/30/2019",
          "Jonelle Walsh<br>University of Texas (UT)-Austin<br>09/01/2011 - 08/31/2014",
          "James Davenport<br>Western Washington University<br>09/01/2015 - 08/31/2018",
          "Julia Comerford<br>University of Texas at Austin<br>06/01/2011 - 05/31/2014",
          "Brian Morsony<br>University of Wisconsin-Madison<br>08/01/2011 - 07/31/2014",
          "Jessica Lu<br>University of Hawaii Institute for Astronomy (IfA)<br>09/01/2011 - 08/31/2014",
          "Neelima Sehgal<br>Princeton University<br>10/01/2011 - 08/31/2012",
          "Aomawa Shields<br>University of California, Los Angeles and Harvard-Smithsonian Center for Astrophysics<br>10/01/2014 - 06/30/2017",
          "Ximena Fernandez<br>Rutgers, State University of New Jersey<br>09/01/2015 - 06/30/2018",
          "Sergio Dieterich<br>Department of Terrestrial Magnetism of Carnegie Institution of Washington<br>09/01/2014 - 08/31/2017",
          "Britt Lundgren<br>University of Wisconsin-Madison<br>10/01/2012 - 08/31/2015",
          "Rukmani Vijayaraghavan<br>University of Virginia<br>09/01/2015 - 08/31/2018",
          "Kathleen Barger-Seim<br>University of Notre Dame<br>09/01/2012 - 07/31/2014",
          "Cameron Hummels<br>Caltech<br>10/01/2015 - 12/31/2018",
          "Britt Reichborn-Kjennerud<br>Columbia University<br>05/15/2011 - 04/30/2014",
          "Angie Wolfgang<br>The Pennsylvania State University<br>10/01/2015 - 09/30/2018",
          "Christine Moran<br>California Institute of Technology<br>06/01/2015 - 01/31/2018",
          "Philip Rosenfield<br>Harvard-Smithsonian Center for Astrophysics<br>09/01/2015 - 05/31/2018",
          "Elisabeth Newton<br>Massachusetts Institute of Technology<br>08/01/2016 - 12/31/2018",
          "Jason Nordhaus<br>Center for Computational Relativity and Gravitation at Rochester Institute of Technology (RIT)<br>08/15/2011 - 07/31/2014",
          "Karen Knierman<br>Arizona State University<br>06/01/2015 - 02/28/2019",
          "Tomer Tal<br>University of California, Santa Cruz<br>09/01/2012 - 06/30/2014",
          "Kerstin Perez<br>Columbia University<br>07/01/2012 - 12/31/2014",
          "Jeremy Murphy<br>Princeton University<br>08/01/2012 - 01/31/2014",
          "Douglas Watson<br>University of Chicago<br>08/01/2012 - 07/31/2015",
          "Nicholas Moskovitz<br>Massachusetts Institute of Technology<br>09/01/2012 - 08/31/2015",
          "Sasha Hinkley<br>California Institute of Technology<br>09/01/2012 - 05/31/2014",
          "Sarah Hansen<br>University of California-Santa Cruz<br>05/01/2009 - 12/31/2011",
          "Molly Swanson<br>Harvard-Smithsonian Center for Astrophysics (CfA)<br>10/01/2009 - 06/30/2013",
          "Stella Offner<br>Harvard-Smithsonian Center for Astrophysics<br>09/01/2009 - 08/31/2012",
          "Nicholas Sterling<br>Michigan State University<br>10/01/2009 - 09/30/2012",
          "Kelle Cruz<br>American Museum of Natural History in New York City<br>09/01/2004 - 08/31/2007",
          "Travis Metcalfe<br>High Altitude Observatory of National Center for Atmospheric Research in Boulder, Colorado<br>09/01/2004 - 08/31/2006",
          "Matthew Povich<br>Pennsylvania State University<br>09/01/2009 - 08/31/2012",
          "Douglas Leonard<br>California Institute of Technology<br>07/01/2004 - 01/15/2006",
          "Heather Jacobson<br>Michigan State University<br>09/01/2009 - 08/31/2012",
          "Anne Metevier<br>Center for Adaptive Optics (CfAO) at University of California, Santa Cruz<br>09/01/2003 - 05/31/2007",
          "Aaron Parsons<br>University of California-Berkeley (UCB)<br>09/01/2009 - 08/31/2011",
          "Jessica Rosenberg<br>University of Colorado<br>06/01/2003 - 06/30/2006",
          "Joseph Barranco<br>Kavli Institute for Theoretical Physics at University of California, Santa Barbara, and then at Harvard-Smithsonian Center for Astrophysics<br>09/01/2003 - 08/31/2007",
          "Ilya Mandel<br>Northwestern University and Massachusetts Institute of Technology<br>09/01/2009 - 08/31/2011",
          "Michael McElwain<br>Princeton University<br>10/01/2009 - 09/30/2011",
          "Marshall Perrin<br>University of California-Los Angeles<br>09/01/2007 - 08/31/2010",
          "Rose Finn<br>University of Massachusetts at Amherst<br>08/01/2003 - 07/31/2007",
          "Cullen Blake<br>Princeton University<br>09/01/2009 - 08/31/2012",
          "Catherine Espaillat<br>Harvard-Smithsonian Center for Astrophysics<br>09/01/2009 - 08/31/2012",
          "Daniel Kocevski<br>University of California, Berkeley<br>10/01/2005 - 09/30/2008",
          "Joseph Hennawi<br>University of California-Berkeley<br>09/01/2007 - 08/31/2009",
          "Eric Hallman<br>University of Colorado-Boulder<br>07/01/2007 - 06/30/2010",
          "Eric Gawiser<br>Yale University<br>09/01/2002 - 08/31/2006",
          "John Feldmeier<br>Case Western Reserve University and National Optical Astronomical Observatories<br>08/15/2003 - 07/31/2007",
          "Katherine Rhode<br>Yale and Wesleyan Universities<br>09/01/2003 - 12/31/2006",
          "Jennifer Sokoloski<br>Harvard-Smithsonian Center for Astrophysics<br>09/01/2003 - 01/31/2007",
          "Jennifer Hoffman<br>University of California, Berkeley<br>09/01/2003 - 08/31/2006",
          "Matthew Browning<br>University of California, Berkeley<br>10/01/2005 - 09/30/2008",
          "Jon Miller<br>Harvard-Smithsonian Center for Astrophysics<br>09/01/2002 - 08/31/2005",
          "Sera Markoff<br>MIT's Center for Space Research<br>09/15/2002 - 08/31/2005",
          "Erik Rosolowsky<br>Harvard-Smithsonian Center for Astrophysics (CfA)<br>08/01/2005 - 12/31/2007",
          "Sukanya Chakrabarti<br>Harvard-Smithsonian Center for Astrophysics<br>09/01/2005 - 09/30/2008",
          "Bethany Cobb<br>University of California-Berkeley<br>09/01/2008 - 08/31/2011",
          "Karin Menendez-Delmestre<br>Observatories of Carnegie Institution of Washington<br>10/01/2008 - 09/30/2011",
          "Brian Keating<br>California Institute of Technology<br>03/01/2001 - 02/29/2004",
          "Aparna Venkatesan<br>University of Colorado<br>06/01/2002 - 12/31/2005",
          "Kelsey Johnson<br>University of Wisconsin and at National Radio Astronomy Observatory at Socorro<br>10/01/2001 - 09/30/2004",
          "Kim-Vy Tran<br>Harvard-Smithsonian Center for Astrophysics (CfA)<br>09/01/2005 - 08/31/2007",
          "David Rothstein<br>Cornell University<br>09/01/2006 - 04/30/2009",
          "Nathan McCrady<br>University of California, Los Angeles<br>09/01/2005 - 08/31/2008",
          "Tamara Rogers<br>National Center for Atmospheric Research (NCAR)<br>08/01/2006 - 07/31/2008",
          "Andrew Zentner<br>Kavli Institute for Cosmological Physics at University of Chicago<br>10/01/2006 - 09/30/2007",
          "Kimberly Coble<br>University of Chicago<br>07/01/2001 - 06/30/2004",
          "Stephen Muchovej<br>California Institute of Technology<br>10/01/2008 - 09/30/2011",
          "Kristy Dyer<br>National Radio Astronomy Observatory in Socorro<br>09/01/2001 - 09/30/2004",
          "Conselice Conselice<br>California Institute of Technology<br>09/01/2002 - 09/30/2005",
          "Andrew Sheinis<br>Center for Adaptive Optics at University of California Santa Cruz<br>10/01/2002 - 08/31/2005",
          "Thomas Renbarger<br>University of California, San Diego (UCSD)<br>05/01/2006 - 04/30/2009",
          "David Lai<br>University of California-Santa Cruz<br>09/01/2008 - 08/31/2011",
          "Jeremiah Murphy<br>University of Washington<br>07/01/2008 - 08/31/2011",
          "Makenzie Lystrup<br>Laboratory for Atmospheric and Space Physics (LASP) at University of Colorado-Boulder<br>10/01/2008 - 08/31/2011",
          "Denise Hurley-Keller<br>Case Western Reserve University (CWRU)<br>06/01/2001 - 11/30/2004",
          "John Wisniewski<br>University of Washington<br>08/01/2008 - 07/31/2011",
          "Joshua Winn<br>Harvard-Smithsonian Center for Astrophysics<br>09/01/2001 - 08/31/2004",
          "Eric Hooper<br>University of Texas at Austin<br>09/01/2001 - 08/31/2005",
          "Kurtis Williams<br>University of Texas-Austin<br>09/01/2006 - 08/31/2009",
          "Dara Norman<br>Cerro Tololo InterAmerican Observatory (CTIO) of National Optical Astronomy Observatories (NOAO), in La Serena, Chile<br>06/01/2001 - 05/31/2004",
          "Brenda Frye<br>Princeton University<br>10/01/2001 - 09/30/2004",
          "Anthony Gonzalez<br>University of Florida<br>12/01/2003 - 08/31/2005",
          "Donald Smith<br>University of Michigan<br>04/01/2001 - 08/31/2004",
          "Anthony Gonzalez<br>University of Florida<br>09/01/2002 - 08/31/2004",
          "Benjamin Brown<br>University of Wisconsin-Madison<br>10/01/2009 - 09/30/2013",
          "Dragan Huterer<br>Center for Cosmological Physics at University of Chicago<br>06/01/2004 - 05/31/2007",
          "Henry Roe<br>California Institute of Technology<br>08/01/2004 - 08/31/2006",
          "Hector Arce<br>American Museum of Natural History in New York City<br>10/01/2004 - 09/30/2007",
          "Rachel deNaray<br>University of California-Irvine to determine behavior of dark matter on small scales<br>09/01/2007 - 08/31/2010",
          "Gaspar Bakos<br>Harvard-Smithsonian Center for Astrophysics<br>11/01/2007 - 10/31/2010",
          "Karen Knierman<br>University of Virginia<br>10/01/2007 - 09/30/2008",
          "Joseph Gelfand<br>University of Massachusetts-Amherst<br>09/01/2007 - 09/30/2010",
          "Jeffrey Bary<br>University of Virginia<br>08/01/2005 - 07/31/2008",
          "Scott Dahm<br>California Institute of Technology<br>09/01/2005 - 06/30/2008",
          "Philip Arras<br>Institute for Theoretical Physics at University of California Santa Barbara (UCSB)<br>08/01/2002 - 07/31/2005",
          "DeWayne Halfen<br>University of Arizona and Steward Observatory<br>06/01/2006 - 05/31/2009",
          "John Johnson<br>Institute for Astronomy at University of Hawaii<br>08/01/2007 - 08/31/2009",
          "Christopher Groppi<br>University of Arizona<br>10/01/2006 - 08/31/2009"
         ],
         "type": "scattergeo"
        },
        {
         "hoverinfo": "text",
         "lat": [
          40.03683318674521,
          42.85602980256209,
          47.74779856385671,
          30.326690556827778,
          41.820568132976184,
          40.88168049184807,
          42.467955665593706,
          43.79142420369368,
          32.26085054604493,
          39.43643775775747,
          42.86382074931432,
          42.18154917248011,
          41.44276007725031,
          30.299466181305924,
          34.175646915800094,
          40.45306866948481,
          40.117942525069026,
          34.13336659030047,
          32.288122946385265,
          43.09105030214339,
          33.47913472995506,
          32.948446443296234,
          34.199292435502386,
          33.00347990625586,
          42.58948971363591,
          40.18357097431522,
          34.46899043885842,
          42.43323669591779,
          39.48233754965304
         ],
         "legendgroup": "active",
         "lon": [
          -105.14020795603406,
          -84.3633299108009,
          -122.21046900900802,
          -97.69819016341793,
          -87.471955249822,
          -73.90254482206294,
          -76.36106645767498,
          -72.25660050196271,
          -110.91921828188295,
          -76.5992032470713,
          -84.47235306199921,
          -87.67285850803377,
          -72.79759554249975,
          -97.67672350968269,
          -118.11004421021958,
          -74.62353876731378,
          -105.14179564490686,
          -118.33217940268358,
          -106.66199491037872,
          -89.28744402002353,
          -111.8223765333422,
          -117.17282429842484,
          -117.9870107483601,
          -117.1141170732284,
          -76.35982825783603,
          -82.81060594921192,
          -119.83751258541467,
          -72.47621376835626,
          -76.58379943841817
         ],
         "marker": {
          "color": "blue",
          "opacity": 0.25,
          "size": 12
         },
         "name": "active",
         "text": [
          "Angela Collier<br>University of Colorado<br>09/01/2021 - 08/31/2024",
          "Brian Clark<br>Michigan State University<br>08/01/2019 - 01/31/2023",
          "Keaton Bell<br>University of Washington<br>09/01/2019 - 08/31/2022",
          "Dominique Segura-Cox<br>University of Texas<br>10/01/2021 - 09/30/2024",
          "Kirit Karkare<br>University of Chicago<br>10/01/2020 - 09/30/2023",
          "Joel Zinn<br>American Museum of Natural History<br>10/01/2020 - 09/30/2023",
          "Steve Choi<br>Cornell University<br>10/01/2020 - 09/30/2023",
          "Graham Edwards<br>Dartmouth College<br>10/01/2021 - 09/30/2024",
          "Rebecca Levy<br>University of Arizona<br>10/01/2021 - 09/30/2024",
          "Dhanesh Krishnarao<br>Johns Hopkins University<br>07/01/2021 - 08/31/2022",
          "Abigail Stevens<br>Michigan State University and at University of Michigan<br>09/01/2018 - 08/31/2022",
          "Patrick Sheehan<br>Northwestern University<br>07/01/2020 - 08/31/2022",
          "Michael Tremmel<br>Yale University<br>09/01/2020 - 08/31/2023",
          "Jenna Samuel<br>University of Texas<br>09/01/2021 - 08/31/2024",
          "Margaret Lazzarini<br>California Institute of Technology<br>09/01/2021 - 08/31/2024",
          "Lia Medeiros<br>Institute for Advanced Study<br>06/01/2019 - 05/31/2023",
          "Emily Griffith<br>University of Colorado<br>09/01/2022 - 08/31/2025",
          "Loren Matilsky<br>University of California, Santa Cruz<br>10/01/2022 - 09/30/2025",
          "Stephanie Ho<br>New Mexico State University<br>09/01/2022 - 08/31/2025",
          "Trey Wenger<br>University of Wisconsin<br>09/01/2022 - 08/31/2025",
          "Jacqueline Monkiewicz<br>Arizona State University and New Mexico State University<br>08/15/2019 - 07/31/2023",
          "Michael Busch<br>University of California, San Diego<br>09/01/2022 - 08/31/2025",
          "Kyle Kremer<br>California Institute of Technology and Carnegie Observatories<br>09/01/2020 - 08/31/2023",
          "Anna Rosen<br>University of California, San Diego<br>09/01/2022 - 08/31/2025",
          "Eve Vavagiakis<br>Cornell and Princeton universities<br>08/01/2022 - 07/31/2025",
          "Amy Sardone<br>Ohio State University<br>09/01/2019 - 08/31/2023",
          "Jemma Wolcott-Green<br>University of California, Santa Barbara<br>09/01/2019 - 08/31/2022",
          "Christopher Faesi<br>University of Massachusetts, Amherst<br>09/01/2019 - 08/31/2022",
          "Sarah Marie Bruno<br>Johns Hopkins University<br>09/01/2021 - 08/31/2024"
         ],
         "type": "scattergeo"
        }
       ],
       "layout": {
        "annotations": [
         {
          "showarrow": false,
          "text": "toggle by clicking<br>legend entries",
          "x": 0.9,
          "xanchor": "left",
          "xref": "paper",
          "y": 0.84,
          "yanchor": "bottom",
          "yref": "paper"
         }
        ],
        "dragmode": false,
        "geo": {
         "scope": "usa",
         "subunitcolor": "black"
        },
        "height": 600,
        "legend": {
         "font": {
          "size": 18
         },
         "title": {
          "text": "  <b>Status:</b>"
         },
         "x": 0.9,
         "y": 0.85
        },
        "margin": {
         "b": 0,
         "l": 0,
         "r": 0,
         "t": 0
        },
        "template": {
         "data": {
          "bar": [
           {
            "error_x": {
             "color": "#2a3f5f"
            },
            "error_y": {
             "color": "#2a3f5f"
            },
            "marker": {
             "line": {
              "color": "#E5ECF6",
              "width": 0.5
             },
             "pattern": {
              "fillmode": "overlay",
              "size": 10,
              "solidity": 0.2
             }
            },
            "type": "bar"
           }
          ],
          "barpolar": [
           {
            "marker": {
             "line": {
              "color": "#E5ECF6",
              "width": 0.5
             },
             "pattern": {
              "fillmode": "overlay",
              "size": 10,
              "solidity": 0.2
             }
            },
            "type": "barpolar"
           }
          ],
          "carpet": [
           {
            "aaxis": {
             "endlinecolor": "#2a3f5f",
             "gridcolor": "white",
             "linecolor": "white",
             "minorgridcolor": "white",
             "startlinecolor": "#2a3f5f"
            },
            "baxis": {
             "endlinecolor": "#2a3f5f",
             "gridcolor": "white",
             "linecolor": "white",
             "minorgridcolor": "white",
             "startlinecolor": "#2a3f5f"
            },
            "type": "carpet"
           }
          ],
          "choropleth": [
           {
            "colorbar": {
             "outlinewidth": 0,
             "ticks": ""
            },
            "type": "choropleth"
           }
          ],
          "contour": [
           {
            "colorbar": {
             "outlinewidth": 0,
             "ticks": ""
            },
            "colorscale": [
             [
              0,
              "#0d0887"
             ],
             [
              0.1111111111111111,
              "#46039f"
             ],
             [
              0.2222222222222222,
              "#7201a8"
             ],
             [
              0.3333333333333333,
              "#9c179e"
             ],
             [
              0.4444444444444444,
              "#bd3786"
             ],
             [
              0.5555555555555556,
              "#d8576b"
             ],
             [
              0.6666666666666666,
              "#ed7953"
             ],
             [
              0.7777777777777778,
              "#fb9f3a"
             ],
             [
              0.8888888888888888,
              "#fdca26"
             ],
             [
              1,
              "#f0f921"
             ]
            ],
            "type": "contour"
           }
          ],
          "contourcarpet": [
           {
            "colorbar": {
             "outlinewidth": 0,
             "ticks": ""
            },
            "type": "contourcarpet"
           }
          ],
          "heatmap": [
           {
            "colorbar": {
             "outlinewidth": 0,
             "ticks": ""
            },
            "colorscale": [
             [
              0,
              "#0d0887"
             ],
             [
              0.1111111111111111,
              "#46039f"
             ],
             [
              0.2222222222222222,
              "#7201a8"
             ],
             [
              0.3333333333333333,
              "#9c179e"
             ],
             [
              0.4444444444444444,
              "#bd3786"
             ],
             [
              0.5555555555555556,
              "#d8576b"
             ],
             [
              0.6666666666666666,
              "#ed7953"
             ],
             [
              0.7777777777777778,
              "#fb9f3a"
             ],
             [
              0.8888888888888888,
              "#fdca26"
             ],
             [
              1,
              "#f0f921"
             ]
            ],
            "type": "heatmap"
           }
          ],
          "heatmapgl": [
           {
            "colorbar": {
             "outlinewidth": 0,
             "ticks": ""
            },
            "colorscale": [
             [
              0,
              "#0d0887"
             ],
             [
              0.1111111111111111,
              "#46039f"
             ],
             [
              0.2222222222222222,
              "#7201a8"
             ],
             [
              0.3333333333333333,
              "#9c179e"
             ],
             [
              0.4444444444444444,
              "#bd3786"
             ],
             [
              0.5555555555555556,
              "#d8576b"
             ],
             [
              0.6666666666666666,
              "#ed7953"
             ],
             [
              0.7777777777777778,
              "#fb9f3a"
             ],
             [
              0.8888888888888888,
              "#fdca26"
             ],
             [
              1,
              "#f0f921"
             ]
            ],
            "type": "heatmapgl"
           }
          ],
          "histogram": [
           {
            "marker": {
             "pattern": {
              "fillmode": "overlay",
              "size": 10,
              "solidity": 0.2
             }
            },
            "type": "histogram"
           }
          ],
          "histogram2d": [
           {
            "colorbar": {
             "outlinewidth": 0,
             "ticks": ""
            },
            "colorscale": [
             [
              0,
              "#0d0887"
             ],
             [
              0.1111111111111111,
              "#46039f"
             ],
             [
              0.2222222222222222,
              "#7201a8"
             ],
             [
              0.3333333333333333,
              "#9c179e"
             ],
             [
              0.4444444444444444,
              "#bd3786"
             ],
             [
              0.5555555555555556,
              "#d8576b"
             ],
             [
              0.6666666666666666,
              "#ed7953"
             ],
             [
              0.7777777777777778,
              "#fb9f3a"
             ],
             [
              0.8888888888888888,
              "#fdca26"
             ],
             [
              1,
              "#f0f921"
             ]
            ],
            "type": "histogram2d"
           }
          ],
          "histogram2dcontour": [
           {
            "colorbar": {
             "outlinewidth": 0,
             "ticks": ""
            },
            "colorscale": [
             [
              0,
              "#0d0887"
             ],
             [
              0.1111111111111111,
              "#46039f"
             ],
             [
              0.2222222222222222,
              "#7201a8"
             ],
             [
              0.3333333333333333,
              "#9c179e"
             ],
             [
              0.4444444444444444,
              "#bd3786"
             ],
             [
              0.5555555555555556,
              "#d8576b"
             ],
             [
              0.6666666666666666,
              "#ed7953"
             ],
             [
              0.7777777777777778,
              "#fb9f3a"
             ],
             [
              0.8888888888888888,
              "#fdca26"
             ],
             [
              1,
              "#f0f921"
             ]
            ],
            "type": "histogram2dcontour"
           }
          ],
          "mesh3d": [
           {
            "colorbar": {
             "outlinewidth": 0,
             "ticks": ""
            },
            "type": "mesh3d"
           }
          ],
          "parcoords": [
           {
            "line": {
             "colorbar": {
              "outlinewidth": 0,
              "ticks": ""
             }
            },
            "type": "parcoords"
           }
          ],
          "pie": [
           {
            "automargin": true,
            "type": "pie"
           }
          ],
          "scatter": [
           {
            "marker": {
             "colorbar": {
              "outlinewidth": 0,
              "ticks": ""
             }
            },
            "type": "scatter"
           }
          ],
          "scatter3d": [
           {
            "line": {
             "colorbar": {
              "outlinewidth": 0,
              "ticks": ""
             }
            },
            "marker": {
             "colorbar": {
              "outlinewidth": 0,
              "ticks": ""
             }
            },
            "type": "scatter3d"
           }
          ],
          "scattercarpet": [
           {
            "marker": {
             "colorbar": {
              "outlinewidth": 0,
              "ticks": ""
             }
            },
            "type": "scattercarpet"
           }
          ],
          "scattergeo": [
           {
            "marker": {
             "colorbar": {
              "outlinewidth": 0,
              "ticks": ""
             }
            },
            "type": "scattergeo"
           }
          ],
          "scattergl": [
           {
            "marker": {
             "colorbar": {
              "outlinewidth": 0,
              "ticks": ""
             }
            },
            "type": "scattergl"
           }
          ],
          "scattermapbox": [
           {
            "marker": {
             "colorbar": {
              "outlinewidth": 0,
              "ticks": ""
             }
            },
            "type": "scattermapbox"
           }
          ],
          "scatterpolar": [
           {
            "marker": {
             "colorbar": {
              "outlinewidth": 0,
              "ticks": ""
             }
            },
            "type": "scatterpolar"
           }
          ],
          "scatterpolargl": [
           {
            "marker": {
             "colorbar": {
              "outlinewidth": 0,
              "ticks": ""
             }
            },
            "type": "scatterpolargl"
           }
          ],
          "scatterternary": [
           {
            "marker": {
             "colorbar": {
              "outlinewidth": 0,
              "ticks": ""
             }
            },
            "type": "scatterternary"
           }
          ],
          "surface": [
           {
            "colorbar": {
             "outlinewidth": 0,
             "ticks": ""
            },
            "colorscale": [
             [
              0,
              "#0d0887"
             ],
             [
              0.1111111111111111,
              "#46039f"
             ],
             [
              0.2222222222222222,
              "#7201a8"
             ],
             [
              0.3333333333333333,
              "#9c179e"
             ],
             [
              0.4444444444444444,
              "#bd3786"
             ],
             [
              0.5555555555555556,
              "#d8576b"
             ],
             [
              0.6666666666666666,
              "#ed7953"
             ],
             [
              0.7777777777777778,
              "#fb9f3a"
             ],
             [
              0.8888888888888888,
              "#fdca26"
             ],
             [
              1,
              "#f0f921"
             ]
            ],
            "type": "surface"
           }
          ],
          "table": [
           {
            "cells": {
             "fill": {
              "color": "#EBF0F8"
             },
             "line": {
              "color": "white"
             }
            },
            "header": {
             "fill": {
              "color": "#C8D4E3"
             },
             "line": {
              "color": "white"
             }
            },
            "type": "table"
           }
          ]
         },
         "layout": {
          "annotationdefaults": {
           "arrowcolor": "#2a3f5f",
           "arrowhead": 0,
           "arrowwidth": 1
          },
          "autotypenumbers": "strict",
          "coloraxis": {
           "colorbar": {
            "outlinewidth": 0,
            "ticks": ""
           }
          },
          "colorscale": {
           "diverging": [
            [
             0,
             "#8e0152"
            ],
            [
             0.1,
             "#c51b7d"
            ],
            [
             0.2,
             "#de77ae"
            ],
            [
             0.3,
             "#f1b6da"
            ],
            [
             0.4,
             "#fde0ef"
            ],
            [
             0.5,
             "#f7f7f7"
            ],
            [
             0.6,
             "#e6f5d0"
            ],
            [
             0.7,
             "#b8e186"
            ],
            [
             0.8,
             "#7fbc41"
            ],
            [
             0.9,
             "#4d9221"
            ],
            [
             1,
             "#276419"
            ]
           ],
           "sequential": [
            [
             0,
             "#0d0887"
            ],
            [
             0.1111111111111111,
             "#46039f"
            ],
            [
             0.2222222222222222,
             "#7201a8"
            ],
            [
             0.3333333333333333,
             "#9c179e"
            ],
            [
             0.4444444444444444,
             "#bd3786"
            ],
            [
             0.5555555555555556,
             "#d8576b"
            ],
            [
             0.6666666666666666,
             "#ed7953"
            ],
            [
             0.7777777777777778,
             "#fb9f3a"
            ],
            [
             0.8888888888888888,
             "#fdca26"
            ],
            [
             1,
             "#f0f921"
            ]
           ],
           "sequentialminus": [
            [
             0,
             "#0d0887"
            ],
            [
             0.1111111111111111,
             "#46039f"
            ],
            [
             0.2222222222222222,
             "#7201a8"
            ],
            [
             0.3333333333333333,
             "#9c179e"
            ],
            [
             0.4444444444444444,
             "#bd3786"
            ],
            [
             0.5555555555555556,
             "#d8576b"
            ],
            [
             0.6666666666666666,
             "#ed7953"
            ],
            [
             0.7777777777777778,
             "#fb9f3a"
            ],
            [
             0.8888888888888888,
             "#fdca26"
            ],
            [
             1,
             "#f0f921"
            ]
           ]
          },
          "colorway": [
           "#636efa",
           "#EF553B",
           "#00cc96",
           "#ab63fa",
           "#FFA15A",
           "#19d3f3",
           "#FF6692",
           "#B6E880",
           "#FF97FF",
           "#FECB52"
          ],
          "font": {
           "color": "#2a3f5f"
          },
          "geo": {
           "bgcolor": "white",
           "lakecolor": "white",
           "landcolor": "#E5ECF6",
           "showlakes": true,
           "showland": true,
           "subunitcolor": "white"
          },
          "hoverlabel": {
           "align": "left"
          },
          "hovermode": "closest",
          "mapbox": {
           "style": "light"
          },
          "paper_bgcolor": "white",
          "plot_bgcolor": "#E5ECF6",
          "polar": {
           "angularaxis": {
            "gridcolor": "white",
            "linecolor": "white",
            "ticks": ""
           },
           "bgcolor": "#E5ECF6",
           "radialaxis": {
            "gridcolor": "white",
            "linecolor": "white",
            "ticks": ""
           }
          },
          "scene": {
           "xaxis": {
            "backgroundcolor": "#E5ECF6",
            "gridcolor": "white",
            "gridwidth": 2,
            "linecolor": "white",
            "showbackground": true,
            "ticks": "",
            "zerolinecolor": "white"
           },
           "yaxis": {
            "backgroundcolor": "#E5ECF6",
            "gridcolor": "white",
            "gridwidth": 2,
            "linecolor": "white",
            "showbackground": true,
            "ticks": "",
            "zerolinecolor": "white"
           },
           "zaxis": {
            "backgroundcolor": "#E5ECF6",
            "gridcolor": "white",
            "gridwidth": 2,
            "linecolor": "white",
            "showbackground": true,
            "ticks": "",
            "zerolinecolor": "white"
           }
          },
          "shapedefaults": {
           "line": {
            "color": "#2a3f5f"
           }
          },
          "ternary": {
           "aaxis": {
            "gridcolor": "white",
            "linecolor": "white",
            "ticks": ""
           },
           "baxis": {
            "gridcolor": "white",
            "linecolor": "white",
            "ticks": ""
           },
           "bgcolor": "#E5ECF6",
           "caxis": {
            "gridcolor": "white",
            "linecolor": "white",
            "ticks": ""
           }
          },
          "title": {
           "x": 0.05
          },
          "xaxis": {
           "automargin": true,
           "gridcolor": "white",
           "linecolor": "white",
           "ticks": "",
           "title": {
            "standoff": 15
           },
           "zerolinecolor": "white",
           "zerolinewidth": 2
          },
          "yaxis": {
           "automargin": true,
           "gridcolor": "white",
           "linecolor": "white",
           "ticks": "",
           "title": {
            "standoff": 15
           },
           "zerolinecolor": "white",
           "zerolinewidth": 2
          }
         }
        },
        "title": {
         "font": {
          "size": 24
         },
         "text": "<b>NSF AAPF Awardees</b>",
         "x": 0.5,
         "xref": "container",
         "y": 0.95,
         "yref": "container"
        }
       }
      }
     },
     "metadata": {},
     "output_type": "display_data"
    }
   ],
   "source": [
    "import plotly.graph_objects as go\n",
    "\n",
    "categories = {\n",
    "    'expired': pd.Timestamp.today() > pd.DatetimeIndex(aapf_df['EndDate'])\n",
    "    }\n",
    "\n",
    "categories['active'] = ~categories['expired']\n",
    "\n",
    "colors = ['red','blue']\n",
    "fig = go.Figure(go.Scattergeo())\n",
    "fig.update_layout(height=600, margin={\"r\":0,\"t\":0,\"l\":0,\"b\":0})\n",
    "for color,category,cat_mask in zip(colors,categories.keys(),categories.values()):\n",
    "    marker_dict = {\n",
    "        'color':color,\n",
    "        'size':12,\n",
    "        'opacity':0.25\n",
    "    }\n",
    "    fig.add_scattergeo(\n",
    "        lat = new_lat_lons[cat_mask,0]+np.random.random(np.sum(cat_mask))*0.15,\n",
    "        lon = new_lat_lons[cat_mask,1]+np.random.random(np.sum(cat_mask))*0.15,\n",
    "        hoverinfo='text',\n",
    "        text=text_boxes[cat_mask],\n",
    "        marker=marker_dict,\n",
    "        legendgroup=category,\n",
    "        name=category)\n",
    "\n",
    "fig.update_geos(\n",
    "    scope='usa',\n",
    "#    landcolor = 'blue',\n",
    "    subunitcolor = 'black'\n",
    "#    center=dict(lon=-90, lat=41),\n",
    "#    projection_rotation=dict(lon=30, lat=30, roll=30),\n",
    "#    lataxis_range=[-30,30], lonaxis_range=[-180, -90]\n",
    ")\n",
    "\n",
    "fig.update_layout(\n",
    "    dragmode=False,\n",
    "    legend={\n",
    "        'title':'  <b>Status:</b>',\n",
    "        'x':0.9,\n",
    "        'y':0.85,\n",
    "        'font':{'size':18}},\n",
    "    title={\n",
    "        'text':'<b>NSF AAPF Awardees</b>',\n",
    "        'x':0.5,\n",
    "        'y':0.95,\n",
    "        'xref':'container',\n",
    "        'yref':'container',\n",
    "        'font':{'size':24}})\n",
    "fig.add_annotation(\n",
    "    text='toggle by clicking<br>legend entries',\n",
    "    x=0.9,\n",
    "    y=0.84,\n",
    "    xref='paper',\n",
    "    yref='paper',\n",
    "    xanchor='left',\n",
    "    yanchor='bottom',\n",
    "    showarrow=False,)\n",
    "fig.show()\n",
    "fig.write_html(\"nsf_aapf.html\")"
   ]
  },
  {
   "cell_type": "markdown",
   "id": "19d604b6-0fec-4661-89a1-94b6b5665bb1",
   "metadata": {},
   "source": []
  },
  {
   "cell_type": "markdown",
   "id": "750aea70-caed-46a6-9b06-e4bc239e6981",
   "metadata": {},
   "source": []
  },
  {
   "cell_type": "markdown",
   "id": "6de852a7-b52e-41c1-af7a-6f3d2ddb1bb9",
   "metadata": {},
   "source": [
    "## If you value your time, do not run the cells below. they are for safe keeping\n",
    "\n",
    "-------"
   ]
  },
  {
   "cell_type": "markdown",
   "id": "81353448-4427-4738-a03f-0a35d0680087",
   "metadata": {},
   "source": []
  },
  {
   "cell_type": "markdown",
   "id": "4f93f5bf-bcd6-44c5-88ab-c40aad1c5ca7",
   "metadata": {},
   "source": []
  },
  {
   "cell_type": "code",
   "execution_count": 449,
   "id": "758c7457-caef-45c3-a8b4-e6211191a827",
   "metadata": {},
   "outputs": [
    {
     "name": "stdout",
     "output_type": "stream",
     "text": [
      "is: Michigan State University in Ohio? n\n",
      "is: Northwestern University in Wisconsin? n\n",
      "is: University of Chicago in Illinois? y\n",
      "is: Harvard-Smithsonian Center for Astrophysics in Massachusetts? y\n",
      "is: Columbia University in New York? y\n",
      "is: University of Chicago in Arizona? n\n",
      "is: Cornell University in New York? y\n",
      "is: Dartmouth College in California? n\n",
      "is: University of Arizona in Maryland? n\n",
      "is: Johns Hopkins University in Wisconsin? n\n",
      "is: University of Utah in New Mexico? n\n",
      "is: Yale University in New Haven, Connecticut in Georgia? n\n",
      "is: Northwestern University in Illinois? y\n",
      "is: Northwestern University in Massachusetts? n\n",
      "is: Yale University in California? n\n",
      "is: Yale University in Connecticut? y\n",
      "is: University of Texas in California? n\n",
      "is: California Institute of Technology in Washington? n\n",
      "is: University of California, Santa Cruz in Arizona? n\n",
      "is: Institute for Advanced Study in Arizona? n\n",
      "is: University of Wisconsin-Madison in Virginia? n\n",
      "is: University of Colorado in Ohio? n\n",
      "is: University of California, Santa Cruz in Colorado? n\n",
      "is: New Mexico State University in Texas? n\n",
      "is: University of California, San Diego in Maryland? n\n",
      "is: Columbia University and New York University in California? n\n",
      "is: California Institute of Technology and Carnegie Observatories in Illinois? n\n",
      "is: University of California, San Diego in Massachusetts? n\n",
      "is: Cornell and Princeton universities in New York? y\n",
      "is: The Ohio State University (OSU) in Virginia? n\n",
      "is: Ohio State University in West Virginia? n\n",
      "is: University of Chicago in Colorado? n\n",
      "is: University of California, Santa Barbara in Oregon? n\n",
      "is: University of Massachusetts, Amherst in Connecticut? n\n",
      "is: Johns Hopkins University in New Jersey? n\n",
      "is: University of California, Santa Barbara in Arizona? n\n",
      "is: Massachusetts Institute of Technology Kavli Institute for Astrophysics and Space Research (MKI) in California? n\n",
      "is: Yale University in California? n\n",
      "is: University of California, Los Angeles in Indiana? n\n",
      "is: California Institute of Technology in New York? n\n",
      "is: Michigan State University in Colorado? n\n",
      "is: Johns Hopkins University in Maryland? n\n",
      "is: University of Chicago in New Jersey? n\n",
      "is: Johns Hopkins University in New Jersey? n\n",
      "is: Harvard-Smithsonian Center for Astrophysics in New York? n\n",
      "is: Harvard University in Massachusetts? y\n",
      "is: Carnegie Institution Department of Terrestrial Magnetism in Massachusetts? n\n",
      "is: Center for Astrophysics at Harvard University in California? n\n",
      "is: Harvard University in Massachusetts? y\n",
      "is: Harvard-Smithsonian Center for Astrophysics, National Radio Astronomy Observatory, and University of Virginia in Wisconsin? n\n",
      "is: University of Virginia and National Radio Astronomy Observatory in Texas? n\n",
      "is: Massachusetts Institute of Technology (MIT) Kavli Institute for Astrophysics and Space Research (MKI) in New York? n\n",
      "is: University of Arizona in Colorado? n\n",
      "is: Harvard-Smithsonian Center for Astrophysics in New York? n\n",
      "is: Columbia University in Pennsylvania? n\n",
      "is: Northwestern University in Illinois? y\n",
      "is: Vanderbilt University in New York? n\n",
      "is: California Institute of Technology in Illinois? n\n",
      "is: University of California, Santa Barbara in Colorado? n\n",
      "is: Princeton University in New York? n\n",
      "is: Vanderbilt University in Louisiana? n\n",
      "is: University of Texas (UT)-Austin in California? n\n",
      "is: University of Hawaii Institute for Astronomy (IfA) in California? n\n",
      "is: Princeton University in New Jersey? y\n",
      "is: University of California, Los Angeles and Harvard-Smithsonian Center for Astrophysics in Washington? n\n",
      "is: Rutgers, State University of New Jersey in New York? n\n",
      "is: Department of Terrestrial Magnetism of Carnegie Institution of Washington in Georgia? n\n",
      "is: University of Wisconsin-Madison in Illinois? n\n",
      "is: University of Virginia in Illinois? n\n",
      "is: University of Notre Dame in Indiana? y\n",
      "is: Caltech in Arizona? n\n",
      "is: Columbia University in New York? y\n",
      "is: The Pennsylvania State University in California? n\n",
      "is: California Institute of Technology in Ohio? n\n",
      "is: Harvard-Smithsonian Center for Astrophysics in Washington? n\n",
      "is: Center for Computational Relativity and Gravitation at Rochester Institute of Technology (RIT) in New York? y\n",
      "is: University of California, Santa Cruz in Connecticut? n\n",
      "is: Columbia University in Pennsylvania? n\n",
      "is: Princeton University in Texas? n\n",
      "is: University of Chicago in Tennessee? n\n",
      "is: University of California-Santa Cruz in Illinois? n\n",
      "is: Harvard-Smithsonian Center for Astrophysics (CfA) in Massachusetts? y\n",
      "is: Harvard-Smithsonian Center for Astrophysics in Massachusetts? y\n",
      "is: Pennsylvania State University in Wisconsin? n\n",
      "is: Michigan State University in Indiana? n\n",
      "is: University of California-Berkeley (UCB) in Puerto Rico? n\n",
      "is: University of Colorado in Massachusetts? n\n",
      "is: Kavli Institute for Theoretical Physics at University of California, Santa Barbara, and then at Harvard-Smithsonian Center for Astrophysics in Massachusetts? y\n",
      "is: Northwestern University and Massachusetts Institute of Technology in Illinois? y\n",
      "is: Princeton University in Maryland? n\n",
      "is: University of Massachusetts at Amherst in Arizona? n\n",
      "is: Princeton University in Massachusetts? n\n",
      "is: Harvard-Smithsonian Center for Astrophysics in Massachusetts? y\n",
      "is: University of California, Berkeley in Texas? n\n",
      "is: Yale University in Connecticut? y\n",
      "is: Case Western Reserve University and National Optical Astronomical Observatories in Arizona? y\n",
      "is: Yale and Wesleyan Universities in Connecticut? y\n",
      "is: Harvard-Smithsonian Center for Astrophysics in Massachusetts? y\n",
      "is: Harvard-Smithsonian Center for Astrophysics in Massachusetts? y\n",
      "is: MIT's Center for Space Research in Massachusetts? y\n",
      "is: Harvard-Smithsonian Center for Astrophysics (CfA) in Massachusetts? y\n",
      "is: Harvard-Smithsonian Center for Astrophysics in California? n\n",
      "is: University of California-Berkeley in Connecticut? n\n",
      "is: Observatories of Carnegie Institution of Washington in California? n\n",
      "is: Cornell University in New York? y\n",
      "is: National Center for Atmospheric Research (NCAR) in Arizona? n\n",
      "is: Kavli Institute for Cosmological Physics at University of Chicago in Illinois? y\n",
      "is: University of Chicago in Illinois? y\n",
      "is: California Institute of Technology in New York? n\n",
      "is: National Radio Astronomy Observatory in Socorro in New Mexico? y\n",
      "is: California Institute of Technology in Maryland? n\n",
      "is: Case Western Reserve University (CWRU) in Ohio? y\n",
      "is: University of Washington in Maryland? n\n",
      "is: Harvard-Smithsonian Center for Astrophysics in Massachusetts? y\n",
      "is: University of Texas at Austin in Massachusetts? n\n",
      "is: Cerro Tololo InterAmerican Observatory (CTIO) of National Optical Astronomy Observatories (NOAO), in La Serena, Chile in New York? n\n",
      "is: Princeton University in New Jersey? y\n",
      "is: University of Wisconsin-Madison in Colorado? n\n",
      "is: Center for Cosmological Physics at University of Chicago in Ohio? n\n",
      "is: American Museum of Natural History in New York City in California? n\n",
      "is: Harvard-Smithsonian Center for Astrophysics in Massachusetts? y\n",
      "is: University of Virginia in Arizona? n\n",
      "is: California Institute of Technology in Hawaii? n\n",
      "is: Institute for Astronomy at University of Hawaii in California? n\n",
      "is: ['University of Arizona', ' where he will participate in development of leading-edge submillimeter-wave spectroscopic imaging arrays'] in Arizona? y\n"
     ]
    },
    {
     "name": "stdout",
     "output_type": "stream",
     "text": [
      "0.515625\n"
     ]
    }
   ],
   "source": [
    "states = [state_mapper[state] if state in state_mapper else '_NAN_' for state in aapf_df['OrganizationState'].tolist()]\n",
    "flags = []\n",
    "for location,state in zip(locations,states):\n",
    "    if state not in location:\n",
    "        ## alright let's do it\n",
    "        if state == '_NAN_': foo = 'n'\n",
    "        else: foo = input(f\"is: {location} in {state}?\")\n",
    "        flags += [foo == 'n']\n",
    "    else:\n",
    "        flags += [False]\n",
    "print(np.sum(flags)/len(flags))"
   ]
  },
  {
   "cell_type": "code",
   "execution_count": 450,
   "id": "c1e1053c-6a80-4c2e-8444-fe2b36f243dc",
   "metadata": {},
   "outputs": [
    {
     "name": "stdout",
     "output_type": "stream",
     "text": [
      "[False, True, False, True, True, False, True, False, False, True, False, True, True, True, True, True, False, True, True, False, True, True, False, False, True, True, True, True, False, False, True, True, True, True, False, True, False, True, True, True, True, False, False, False, True, True, False, True, False, True, True, True, True, False, False, False, True, True, True, False, True, False, True, True, True, True, True, False, True, False, True, True, False, True, True, True, False, True, False, True, True, False, False, False, False, True, True, True, True, True, True, True, False, False, False, True, False, True, True, True, True, True, False, True, False, True, True, True, False, False, False, True, True, True, True, False, False, True, False, False, False, False, False, True, False, True, False, True, True, False, False, True, False, True, True, False, True, False, False, False, False, False, False, False, False, False, False, False, True, True, True, False, False, False, True, False, False, True, False, False, True, False, True, False, False, False, False, False, False, True, False, True, False, True, False, False, False, False, True, True, False, True, False, False, True, False, False, True, True, False, True, False]\n"
     ]
    }
   ],
   "source": [
    "print(flags)"
   ]
  }
 ],
 "metadata": {
  "kernelspec": {
   "display_name": "Python 3.9.7 ('python38')",
   "language": "python",
   "name": "python3"
  },
  "language_info": {
   "codemirror_mode": {
    "name": "ipython",
    "version": 3
   },
   "file_extension": ".py",
   "mimetype": "text/x-python",
   "name": "python",
   "nbconvert_exporter": "python",
   "pygments_lexer": "ipython3",
   "version": "3.9.7"
  },
  "vscode": {
   "interpreter": {
    "hash": "11d312a37531da5462afe6eb57850407f2c539be0be551cb260e0dd9ca2fbb3c"
   }
  }
 },
 "nbformat": 4,
 "nbformat_minor": 5
}
